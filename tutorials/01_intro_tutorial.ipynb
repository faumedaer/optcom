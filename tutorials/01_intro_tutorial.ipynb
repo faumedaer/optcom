{
 "cells": [
  {
   "cell_type": "code",
   "execution_count": null,
   "metadata": {},
   "outputs": [],
   "source": [
    "# Copyright 2019 The Optcom Authors\n",
    "#\n",
    "# Licensed under the Apache License, Version 2.0 (the \"License\");\n",
    "# you may not use this file except in compliance with the License.\n",
    "# You may obtain a copy of the License at\n",
    "#\n",
    "#     http://www.apache.org/licenses/LICENSE-2.0\n",
    "#\n",
    "# Unless required by applicable law or agreed to in writing, software\n",
    "# distributed under the License is distributed on an \"AS IS\" BASIS,\n",
    "# WITHOUT WARRANTIES OR CONDITIONS OF ANY KIND, either express or implied.\n",
    "# See the License for the specific language governing permissions and\n",
    "# limitations under the License."
   ]
  },
  {
   "cell_type": "markdown",
   "metadata": {},
   "source": [
    "# Introduction\n",
    "\n",
    "Welcom to Optcom ! This first tutorial introduces the building blocks used to create and run an optical system. The reader is assumed to be familiar with optics and optical system network. An introduction to those topics can be found [here](https://www.elsevier.com/books/nonlinear-fiber-optics/agrawal/978-0-12-397023-7).\n",
    "\n",
    "## Short word on Optcom's architecture\n",
    "\n",
    "An optical system in Optcom is created by linking ports of components to each other in a layout. The components represent physical components such as lasers, fibers and so on. Each component is composed of ports where a field can get either in or out, or even both. The layout allows to connect those component's ports to each other and run the simulation, i.e. propagate a field.\n"
   ]
  },
  {
   "cell_type": "markdown",
   "metadata": {},
   "source": [
    "## Let's build our first optical system !\n",
    "\n",
    "This section will guide us step by step in order to create and run a simulation. For our first example, we consider the following system:\n",
    "\n",
    "\n",
    "     Gaussian Pulse 1 ______\n",
    "                            \\\n",
    "                             \\_____ Amplifier _____ Phase Modulator ____ [output]\n",
    "                             /\n",
    "     Gaussian Pulse 2 ______/\n",
    "\n",
    "\n",
    "\n",
    "### Setup"
   ]
  },
  {
   "cell_type": "code",
   "execution_count": null,
   "metadata": {
    "scrolled": true
   },
   "outputs": [],
   "source": [
    "pip install optcom"
   ]
  },
  {
   "cell_type": "code",
   "execution_count": null,
   "metadata": {},
   "outputs": [],
   "source": [
    "import math\n",
    "import optcom as oc"
   ]
  },
  {
   "cell_type": "markdown",
   "metadata": {},
   "source": [
    "### Domain\n",
    "The first step to build an optical system is to build an object Domain which will contain basic physic and computational parameters that will be shared by all components inside a Layout."
   ]
  },
  {
   "cell_type": "code",
   "execution_count": null,
   "metadata": {},
   "outputs": [],
   "source": [
    "domain = oc.Domain(bits=1, bit_width=100.0, samples_per_bit=512)"
   ]
  },
  {
   "cell_type": "markdown",
   "metadata": {},
   "source": [
    "We have just defined a time window of 100 ps, which is equal to (bits * bit_width). And we consider 512 time points inside this time window. "
   ]
  },
  {
   "cell_type": "markdown",
   "metadata": {},
   "source": [
    "### Layout\n",
    "Now we define a layout which will link the component's ports to each other and propagate the domain and the fields\n",
    "through the components."
   ]
  },
  {
   "cell_type": "code",
   "execution_count": null,
   "metadata": {},
   "outputs": [],
   "source": [
    "layout = oc.Layout(domain)"
   ]
  },
  {
   "cell_type": "markdown",
   "metadata": {},
   "source": [
    "### Component\n",
    "Let's now create the basic components inside our system. A component represent an electric or optical physical block such as an amplifier, phase modulator, fiber and so on. There are two types of components, the ones that create a field and can launch the simulation such as a Gaussian pulse generator and the ones which transform an existing field such as an amplifier.\n",
    "\n",
    "Let's first create two Gaussian pulses, one centered at 1550 nm with a width of 10 ps and another one centered at 1540 nm with a width of 5 ps, both with a peak power of 1 W."
   ]
  },
  {
   "cell_type": "code",
   "execution_count": null,
   "metadata": {},
   "outputs": [],
   "source": [
    "gaussian_1 = oc.Gaussian(name='Gaussian 1', channels=1, center_lambda=[1550.], width=[10.], peak_power=[1.])\n",
    "gaussian_2 = oc.Gaussian(name='Gaussian 2', channels=1, center_lambda=[1540.], width=[5.], peak_power=[1.])"
   ]
  },
  {
   "cell_type": "markdown",
   "metadata": {},
   "source": [
    "Now let's create an amplifier with a 3 dB gain and a phase modulator with a phase shift of $\\frac{\\pi}{2}$."
   ]
  },
  {
   "cell_type": "code",
   "execution_count": null,
   "metadata": {},
   "outputs": [],
   "source": [
    "amplifier = oc.IdealAmplifier(gain=3.0)\n",
    "phase_mod = oc.IdealPhaseMod(phase_shift=math.pi/2.0)"
   ]
  },
  {
   "cell_type": "markdown",
   "metadata": {},
   "source": [
    "The last component we need is a combiner in order to join the two Gaussian pulses before the amplifier."
   ]
  },
  {
   "cell_type": "code",
   "execution_count": null,
   "metadata": {},
   "outputs": [],
   "source": [
    "combiner = oc.IdealCombiner(arms=2)"
   ]
  },
  {
   "cell_type": "markdown",
   "metadata": {},
   "source": [
    "### Building and Running\n",
    "We now have everything we need to start building our system. To do so we add links between the ports of the components by chance of the layout. A diagram of the port numbers for each component is available in the Optcom's [documentation](https://optcom.readthedocs.io/en/latest/optcom.components.html). The port of a component can be reached by the method `get_port(port_num)` or simply by object indexing, examples for both are shown below.\n"
   ]
  },
  {
   "cell_type": "code",
   "execution_count": null,
   "metadata": {},
   "outputs": [],
   "source": [
    "layout.reset()\n",
    "layout.add_link(gaussian_1.get_port(0), combiner.get_port(0))\n",
    "layout.add_link(gaussian_2[0], combiner[1])\n",
    "layout.add_links((combiner[2], amplifier[0]), (amplifier[1], phase_mod[0]))"
   ]
  },
  {
   "cell_type": "markdown",
   "metadata": {},
   "source": [
    "We are now ready to lauch the simulation ! We can specify which pulses we want to launch, or simply run all of them. In order to print the log and follow the path of the fields in the layout, the print log flag can be set \n",
    "to True before running the simulation."
   ]
  },
  {
   "cell_type": "code",
   "execution_count": null,
   "metadata": {},
   "outputs": [],
   "source": [
    "oc.set_print_log(True)\n",
    "# layout.run(gaussian_1, gaussian_2)\n",
    "layout.run_all()"
   ]
  },
  {
   "cell_type": "markdown",
   "metadata": {},
   "source": [
    "### Result and plotting\n",
    "Optcom offers helper functions to plot propagated fields. Let's plot the temporal power of the original pulses, and the pulses at the end of the simulation, i.e. at the output of the phase modulator.\n",
    "\n",
    "We first need to gather the data. The components that start the simulation as well that the components that terminate the simulation automatically save their output fields in the corresponding ports. This can be accessed by chance of the attribute fields of every ports. Then, the channels, noises and other field's characteristics can be accessed."
   ]
  },
  {
   "cell_type": "code",
   "execution_count": null,
   "metadata": {},
   "outputs": [],
   "source": [
    "time_data = [gaussian_1[0].fields[0].time,\n",
    "             gaussian_2[0].fields[0].time,\n",
    "             phase_mod[1].fields[0].time,\n",
    "             phase_mod[1].fields[1].time]\n",
    "power_data = [oc.temporal_power(gaussian_1[0].fields[0].channels),\n",
    "              oc.temporal_power(gaussian_2[0].fields[0].channels),\n",
    "              oc.temporal_power(phase_mod[1].fields[0].channels),\n",
    "              oc.temporal_power(phase_mod[1].fields[1].channels)]"
   ]
  },
  {
   "cell_type": "markdown",
   "metadata": {},
   "source": [
    "We now can plot the data, we will give some lables to the different plots, some titles and we will gather the 2\n",
    "first data together as well as the two last data."
   ]
  },
  {
   "cell_type": "code",
   "execution_count": null,
   "metadata": {},
   "outputs": [],
   "source": [
    "oc.plot2d(time_data, power_data, x_labels=['t'], y_labels=['P_t'], plot_groups=[0,0,1,1],\n",
    "          plot_titles=['Temporal power of the original pulses', 'Temporal power of the output pulses'],\n",
    "          line_labels=['Input Gaussian 1', 'Input Gaussian 2', 'Output Gaussian 1', 'Output Gaussian 2'])"
   ]
  },
  {
   "cell_type": "markdown",
   "metadata": {},
   "source": [
    "We can see that the time window is indeed 100 ps and the pulses have the pre-defined characteristics. Moreover,  the 3 db amplifier doubled the power of our pulses. \n",
    "\n",
    "Let's now do the same with the phase of our pulses to see the effect of the phase modulator."
   ]
  },
  {
   "cell_type": "code",
   "execution_count": null,
   "metadata": {},
   "outputs": [],
   "source": [
    "time_data = [gaussian_1[0].fields[0].time,\n",
    "             gaussian_2[0].fields[0].time,\n",
    "             phase_mod[1].fields[0].time,\n",
    "             phase_mod[1].fields[1].time]\n",
    "power_data = [oc.temporal_phase(gaussian_1[0].fields[0].channels),\n",
    "              oc.temporal_phase(gaussian_2[0].fields[0].channels),\n",
    "              oc.temporal_phase(phase_mod[1].fields[0].channels),\n",
    "              oc.temporal_phase(phase_mod[1].fields[1].channels)]"
   ]
  },
  {
   "cell_type": "code",
   "execution_count": null,
   "metadata": {
    "scrolled": true
   },
   "outputs": [],
   "source": [
    "oc.plot2d(time_data, power_data, x_labels=['t'], y_labels=['P_t'], plot_groups=[0,0,1,1],\n",
    "          plot_titles=['Phase of the original pulses', 'Phase of the output pulses'],\n",
    "          line_labels=['Input Gaussian 1', 'Input Gaussian 2', 'Output Gaussian 1', 'Output Gaussian 2'])"
   ]
  },
  {
   "cell_type": "markdown",
   "metadata": {},
   "source": [
    "We can see the effect the $\\frac{pi}{2}$ phase shift."
   ]
  },
  {
   "cell_type": "markdown",
   "metadata": {},
   "source": [
    "## End word\n",
    "This is the end of the first introdution tutorial. The following tutorials will drive you to more complex cases\n",
    "and components with which you will be able to simulate state of the art optical system !"
   ]
  }
 ],
 "metadata": {
  "kernelspec": {
   "display_name": "Python 3",
   "language": "python",
   "name": "python3"
  },
  "language_info": {
   "codemirror_mode": {
    "name": "ipython",
    "version": 3
   },
   "file_extension": ".py",
   "mimetype": "text/x-python",
   "name": "python",
   "nbconvert_exporter": "python",
   "pygments_lexer": "ipython3",
   "version": "3.7.5"
  }
 },
 "nbformat": 4,
 "nbformat_minor": 4
}
